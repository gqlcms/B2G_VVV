{
 "cells": [
  {
   "cell_type": "code",
   "execution_count": 3,
   "metadata": {},
   "outputs": [],
   "source": [
    "import os\n",
    "import sys\n",
    "import tempfile\n",
    "import time\n",
    "import glob\n",
    "\n",
    "import uproot\n",
    "import uproot_methods\n",
    "import numpy as np\n",
    "import awkward\n",
    "import concurrent.futures\n",
    "\n",
    "from tqdm.auto import tqdm"
   ]
  },
  {
   "cell_type": "code",
   "execution_count": 4,
   "metadata": {},
   "outputs": [],
   "source": [
    "def save_array(fname,x,compress=True):\n",
    "    if type(x) == awkward.JaggedArray:\n",
    "        d = dict(content=x.content,counts=x.counts)\n",
    "    else:\n",
    "        d = dict(content=x)\n",
    "    if compress:\n",
    "        np.savez_compressed(fname,**d)\n",
    "    else:\n",
    "        np.savez(fname,**d)\n",
    "    \n",
    "def load_array(fname):\n",
    "    f = np.load(fname)\n",
    "    if \"counts\" in f.files:\n",
    "        return awkward.JaggedArray.fromcounts(content=f[\"content\"],counts=f[\"counts\"])\n",
    "    else:\n",
    "        return f[\"content\"]"
   ]
  },
  {
   "cell_type": "code",
   "execution_count": 5,
   "metadata": {},
   "outputs": [],
   "source": [
    "executor = concurrent.futures.ProcessPoolExecutor(8)\n",
    "# executor = concurrent.futures.ThreadPoolExecutor(8)\n",
    "\n",
    "def convert_branch(inputfnames,treename,branchname,fulloutpath):\n",
    "    toconcat = []\n",
    "    for branches in uproot.iterate(inputfnames,treename,entrysteps=300000,branches=[branchname],outputtype=tuple):\n",
    "        toconcat.append(branches[0])\n",
    "    arr = awkward.concatenate(toconcat)\n",
    "    tempname = \".temp_{}.npz\".format(branchname)\n",
    "    save_array(tempname,arr)\n",
    "    os.system(\"cp {} {}\".format(tempname, fulloutpath))\n",
    "    os.system(\"rm {}\".format(tempname))\n",
    "    \n"
   ]
  },
  {
   "cell_type": "code",
   "execution_count": 6,
   "metadata": {},
   "outputs": [],
   "source": [
    "def convert_dir_parallel(nanodir):\n",
    "    outdir = \"{}/column_data/\".format(nanodir)\n",
    "    os.system(\"mkdir -p {}\".format(outdir))\n",
    "    inputfnames = list(sorted(glob.glob(nanodir+\"/*.root\")))\n",
    "    treename = \"Events\"\n",
    "    futures = []\n",
    "    for branchname in uproot.open(inputfnames[0])[treename].keys():\n",
    "        branchname = branchname.decode(\"ascii\")\n",
    "        outname = \"branch__{}__0.npz\".format(branchname)\n",
    "        fulloutpath = \"{}/{}\".format(outdir, outname)\n",
    "        if os.path.exists(fulloutpath): continue\n",
    "        futures.append(executor.submit(convert_branch,inputfnames,treename,branchname,fulloutpath))\n",
    "    for future in tqdm(concurrent.futures.as_completed(futures),total=len(futures),position=1,desc=\"branches\"):\n",
    "        pass"
   ]
  },
  {
   "cell_type": "code",
   "execution_count": null,
   "metadata": {},
   "outputs": [
    {
     "data": {
      "application/vnd.jupyter.widget-view+json": {
       "model_id": "8389387a037545fcb2525d9b7faba2cc",
       "version_major": 2,
       "version_minor": 0
      },
      "text/plain": [
       "HBox(children=(IntProgress(value=0, description='dirs', max=14, style=ProgressStyle(description_width='initial…"
      ]
     },
     "metadata": {},
     "output_type": "display_data"
    },
    {
     "data": {
      "application/vnd.jupyter.widget-view+json": {
       "model_id": "b806baa4428c4feeae798f3925eb6b7e",
       "version_major": 2,
       "version_minor": 0
      },
      "text/plain": [
       "HBox(children=(IntProgress(value=0, description='branches', max=1141, style=ProgressStyle(description_width='i…"
      ]
     },
     "metadata": {},
     "output_type": "display_data"
    }
   ],
   "source": [
    "nanodirs = glob.glob(\"/hadoop/cms/store/user/namin/nanoaod/DoubleMuon__Run201*/\")\n",
    "\n",
    "for nanodir in tqdm(nanodirs,position=0,desc=\"dirs\"):\n",
    "    convert_dir_parallel(nanodir)"
   ]
  },
  {
   "cell_type": "code",
   "execution_count": null,
   "metadata": {},
   "outputs": [],
   "source": []
  }
 ],
 "metadata": {
  "kernelspec": {
   "display_name": "Python 3",
   "language": "python",
   "name": "python3"
  },
  "language_info": {
   "codemirror_mode": {
    "name": "ipython",
    "version": 3
   },
   "file_extension": ".py",
   "mimetype": "text/x-python",
   "name": "python",
   "nbconvert_exporter": "python",
   "pygments_lexer": "ipython3",
   "version": "3.5.2"
  }
 },
 "nbformat": 4,
 "nbformat_minor": 2
}
