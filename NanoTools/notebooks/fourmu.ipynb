{
 "cells": [
  {
   "cell_type": "code",
   "execution_count": 282,
   "metadata": {},
   "outputs": [],
   "source": [
    "%matplotlib inline\n",
    "import time\n",
    "import glob\n",
    "import re\n",
    "from functools import reduce\n",
    "\n",
    "\n",
    "import numpy as np\n",
    "from tqdm.auto import tqdm\n",
    "import coffea.processor as processor\n",
    "from coffea.processor.accumulator import AccumulatorABC\n",
    "import pandas as pd\n",
    "import uproot\n",
    "import uproot_methods\n",
    "from scipy.optimize import curve_fit\n",
    "\n",
    "import matplotlib.pyplot as plt\n",
    "from matplotlib.colors import LogNorm\n",
    "\n",
    "# https://arxiv.org/abs/1107.3084"
   ]
  },
  {
   "cell_type": "code",
   "execution_count": 283,
   "metadata": {},
   "outputs": [],
   "source": [
    "class EventProcessor(processor.ProcessorABC):\n",
    "    def __init__(self):\n",
    "        d = {\"counts\": processor.defaultdict_accumulator(int)}\n",
    "        for k in [\"zmass\",\"nmass\",\"hmass\",\"zpt\",\"npt\",\"hpt\"]:\n",
    "            d[k] = processor.column_accumulator(np.zeros(shape=(0,)))\n",
    "        self._accumulator = processor.dict_accumulator(d)\n",
    "            \n",
    "    @property\n",
    "    def accumulator(self):\n",
    "        return self._accumulator\n",
    "\n",
    "    def process(self, df):\n",
    "        output = self.accumulator.identity()\n",
    "\n",
    "        dataset = df['dataset']\n",
    "        year = int(re.search(\"(201.)\",dataset).groups()[0])\n",
    "\n",
    "        muons = uproot_methods.TLorentzVectorArray.from_ptetaphim(\n",
    "            df[\"Muon_pt\"],df[\"Muon_eta\"],df[\"Muon_phi\"],df[\"Muon_mass\"]\n",
    "        )\n",
    "        muons[\"charge\"] = df[\"Muon_charge\"]\n",
    "        muons[\"isgood\"] = (df[\"Muon_mediumId\"] \n",
    "                          & (df[\"Muon_miniIsoId\"] > 0)\n",
    "                          & (np.abs(muons.eta) < 3.0) \n",
    "                          & (muons.pt > 10.))\n",
    "        output[\"counts\"][\"total\"] += len(muons)\n",
    "        muons = muons[muons[\"isgood\"]]\n",
    "        \n",
    "        muons = muons[\n",
    "            (muons.counts==4)\n",
    "            & (muons.charge.sum()==0)\n",
    "                  ]\n",
    "        \n",
    "        if not len(muons):\n",
    "            return output\n",
    "        \n",
    "        mm = muons.distincts()\n",
    "        imm = muons.argdistincts()\n",
    "        isos = (mm.i0.charge*mm.i1.charge < 0)\n",
    "        mm = mm[isos]\n",
    "        imm = imm[isos]\n",
    "\n",
    "        zidx = np.abs((mm.i0+mm.i1).mass-91.2).argmin()\n",
    "        \n",
    "        nidx = ((imm.i0 != imm[zidx].i0[:,0]) \n",
    "              & (imm.i0 != imm[zidx].i1[:,0])\n",
    "              & (imm.i1 != imm[zidx].i0[:,0])\n",
    "              & (imm.i1 != imm[zidx].i1[:,0])).argmax()\n",
    "        zp4 = (mm.i0+mm.i1)[zidx]\n",
    "        np4 = (mm.i0+mm.i1)[nidx]\n",
    "        hp4 = zp4+np4\n",
    "        \n",
    "        output[\"zmass\"] = processor.column_accumulator(zp4.mass.flatten())\n",
    "        output[\"nmass\"] = processor.column_accumulator(np4.mass.flatten())\n",
    "        output[\"hmass\"] = processor.column_accumulator(hp4.mass.flatten())\n",
    "        \n",
    "        output[\"zpt\"] = processor.column_accumulator(zp4.pt.flatten())\n",
    "        output[\"npt\"] = processor.column_accumulator(np4.pt.flatten())\n",
    "        output[\"hpt\"] = processor.column_accumulator(hp4.pt.flatten())\n",
    "        \n",
    "\n",
    "        return output\n",
    "\n",
    "    def postprocess(self, accumulator):\n",
    "        return accumulator\n"
   ]
  },
  {
   "cell_type": "code",
   "execution_count": 284,
   "metadata": {},
   "outputs": [
    {
     "data": {
      "application/vnd.jupyter.widget-view+json": {
       "model_id": "c48d98ba55d1445ca47ad96e97a3e279",
       "version_major": 2,
       "version_minor": 0
      },
      "text/plain": [
       "HBox(children=(IntProgress(value=0, description='Preprocessing', max=3, style=ProgressStyle(description_width=…"
      ]
     },
     "metadata": {},
     "output_type": "display_data"
    },
    {
     "name": "stdout",
     "output_type": "stream",
     "text": [
      "\n"
     ]
    },
    {
     "data": {
      "application/vnd.jupyter.widget-view+json": {
       "model_id": "e5ed0639fc3e4c4f9216c2ebde60cafe",
       "version_major": 2,
       "version_minor": 0
      },
      "text/plain": [
       "HBox(children=(IntProgress(value=0, description='Processing', max=545, style=ProgressStyle(description_width='…"
      ]
     },
     "metadata": {},
     "output_type": "display_data"
    },
    {
     "name": "stdout",
     "output_type": "stream",
     "text": [
      "\n",
      "192197136 events @ 961.9kHz\n"
     ]
    }
   ],
   "source": [
    "# N = 20\n",
    "N = None\n",
    "fileset = {\n",
    "    \"doublemu_2016\": glob.glob(\"/hadoop/cms/store/user/namin/nanoaod/DoubleMuon__Run2016*/*.root\")[:N],\n",
    "    \"doublemu_2017\": glob.glob(\"/hadoop/cms/store/user/namin/nanoaod/DoubleMuon__Run2017*/*.root\")[:N],\n",
    "    \"doublemu_2018\": glob.glob(\"/hadoop/cms/store/user/namin/nanoaod/DoubleMuon__Run2018*/*.root\")[:N],\n",
    "}\n",
    "\n",
    "t0 = time.time()\n",
    "output = processor.run_uproot_job(fileset,\n",
    "                                  treename='Events',\n",
    "                                  processor_instance=EventProcessor(),\n",
    "                                  executor=processor.futures_executor,\n",
    "                                  executor_args={'workers': 12},\n",
    "#                                   executor_args={'workers': 24},\n",
    "                                  chunksize=400000,\n",
    "                                 )\n",
    "elapsed = time.time()-t0\n",
    "print(\"{} events @ {:.1f}kHz\".format(output[\"counts\"][\"total\"],0.001*output[\"counts\"][\"total\"]/elapsed))"
   ]
  },
  {
   "cell_type": "code",
   "execution_count": 285,
   "metadata": {},
   "outputs": [
    {
     "data": {
      "text/html": [
       "<div>\n",
       "<style scoped>\n",
       "    .dataframe tbody tr th:only-of-type {\n",
       "        vertical-align: middle;\n",
       "    }\n",
       "\n",
       "    .dataframe tbody tr th {\n",
       "        vertical-align: top;\n",
       "    }\n",
       "\n",
       "    .dataframe thead th {\n",
       "        text-align: right;\n",
       "    }\n",
       "</style>\n",
       "<table border=\"1\" class=\"dataframe\">\n",
       "  <thead>\n",
       "    <tr style=\"text-align: right;\">\n",
       "      <th></th>\n",
       "      <th>nmass</th>\n",
       "      <th>hpt</th>\n",
       "      <th>zmass</th>\n",
       "      <th>zpt</th>\n",
       "      <th>npt</th>\n",
       "      <th>hmass</th>\n",
       "    </tr>\n",
       "  </thead>\n",
       "  <tbody>\n",
       "    <tr>\n",
       "      <th>0</th>\n",
       "      <td>51.077129</td>\n",
       "      <td>28.054113</td>\n",
       "      <td>62.911751</td>\n",
       "      <td>26.450634</td>\n",
       "      <td>28.855055</td>\n",
       "      <td>138.445465</td>\n",
       "    </tr>\n",
       "    <tr>\n",
       "      <th>1</th>\n",
       "      <td>49.672134</td>\n",
       "      <td>141.857132</td>\n",
       "      <td>91.198044</td>\n",
       "      <td>39.452343</td>\n",
       "      <td>114.134865</td>\n",
       "      <td>176.223358</td>\n",
       "    </tr>\n",
       "    <tr>\n",
       "      <th>2</th>\n",
       "      <td>91.600006</td>\n",
       "      <td>1.387914</td>\n",
       "      <td>91.169846</td>\n",
       "      <td>65.567574</td>\n",
       "      <td>64.378822</td>\n",
       "      <td>235.207520</td>\n",
       "    </tr>\n",
       "    <tr>\n",
       "      <th>3</th>\n",
       "      <td>33.181561</td>\n",
       "      <td>62.001316</td>\n",
       "      <td>69.026787</td>\n",
       "      <td>41.350124</td>\n",
       "      <td>48.256092</td>\n",
       "      <td>125.387215</td>\n",
       "    </tr>\n",
       "    <tr>\n",
       "      <th>4</th>\n",
       "      <td>81.754692</td>\n",
       "      <td>24.844202</td>\n",
       "      <td>93.446480</td>\n",
       "      <td>67.429909</td>\n",
       "      <td>46.163986</td>\n",
       "      <td>278.721283</td>\n",
       "    </tr>\n",
       "  </tbody>\n",
       "</table>\n",
       "</div>"
      ],
      "text/plain": [
       "       nmass         hpt      zmass        zpt         npt       hmass\n",
       "0  51.077129   28.054113  62.911751  26.450634   28.855055  138.445465\n",
       "1  49.672134  141.857132  91.198044  39.452343  114.134865  176.223358\n",
       "2  91.600006    1.387914  91.169846  65.567574   64.378822  235.207520\n",
       "3  33.181561   62.001316  69.026787  41.350124   48.256092  125.387215\n",
       "4  81.754692   24.844202  93.446480  67.429909   46.163986  278.721283"
      ]
     },
     "execution_count": 285,
     "metadata": {},
     "output_type": "execute_result"
    }
   ],
   "source": [
    "dfc = pd.DataFrame()\n",
    "for k in output.keys():\n",
    "    if \"count\" in k: continue\n",
    "    dfc[k] = output[k].value\n",
    "dfc.head()"
   ]
  },
  {
   "cell_type": "code",
   "execution_count": 286,
   "metadata": {},
   "outputs": [
    {
     "data": {
      "text/html": [
       "<div>\n",
       "<style scoped>\n",
       "    .dataframe tbody tr th:only-of-type {\n",
       "        vertical-align: middle;\n",
       "    }\n",
       "\n",
       "    .dataframe tbody tr th {\n",
       "        vertical-align: top;\n",
       "    }\n",
       "\n",
       "    .dataframe thead th {\n",
       "        text-align: right;\n",
       "    }\n",
       "</style>\n",
       "<table border=\"1\" class=\"dataframe\">\n",
       "  <thead>\n",
       "    <tr style=\"text-align: right;\">\n",
       "      <th></th>\n",
       "      <th>nmass</th>\n",
       "      <th>hpt</th>\n",
       "      <th>zmass</th>\n",
       "      <th>zpt</th>\n",
       "      <th>npt</th>\n",
       "      <th>hmass</th>\n",
       "    </tr>\n",
       "  </thead>\n",
       "  <tbody>\n",
       "    <tr>\n",
       "      <th>count</th>\n",
       "      <td>1352.000000</td>\n",
       "      <td>1352.000000</td>\n",
       "      <td>1352.000000</td>\n",
       "      <td>1352.000000</td>\n",
       "      <td>1352.000000</td>\n",
       "      <td>1352.000000</td>\n",
       "    </tr>\n",
       "    <tr>\n",
       "      <th>mean</th>\n",
       "      <td>39.146784</td>\n",
       "      <td>43.828893</td>\n",
       "      <td>69.316413</td>\n",
       "      <td>45.626251</td>\n",
       "      <td>41.989369</td>\n",
       "      <td>156.740156</td>\n",
       "    </tr>\n",
       "    <tr>\n",
       "      <th>std</th>\n",
       "      <td>47.302478</td>\n",
       "      <td>45.537901</td>\n",
       "      <td>25.565619</td>\n",
       "      <td>45.272830</td>\n",
       "      <td>39.125207</td>\n",
       "      <td>111.573901</td>\n",
       "    </tr>\n",
       "    <tr>\n",
       "      <th>min</th>\n",
       "      <td>0.215243</td>\n",
       "      <td>0.495447</td>\n",
       "      <td>1.755571</td>\n",
       "      <td>0.507776</td>\n",
       "      <td>0.204257</td>\n",
       "      <td>3.178756</td>\n",
       "    </tr>\n",
       "    <tr>\n",
       "      <th>25%</th>\n",
       "      <td>3.010048</td>\n",
       "      <td>13.369686</td>\n",
       "      <td>52.278891</td>\n",
       "      <td>17.906152</td>\n",
       "      <td>21.837002</td>\n",
       "      <td>89.487904</td>\n",
       "    </tr>\n",
       "    <tr>\n",
       "      <th>50%</th>\n",
       "      <td>24.523043</td>\n",
       "      <td>30.565646</td>\n",
       "      <td>73.134636</td>\n",
       "      <td>31.795276</td>\n",
       "      <td>30.557707</td>\n",
       "      <td>124.362049</td>\n",
       "    </tr>\n",
       "    <tr>\n",
       "      <th>75%</th>\n",
       "      <td>72.020248</td>\n",
       "      <td>60.480492</td>\n",
       "      <td>90.704208</td>\n",
       "      <td>58.546426</td>\n",
       "      <td>48.993651</td>\n",
       "      <td>205.486851</td>\n",
       "    </tr>\n",
       "    <tr>\n",
       "      <th>max</th>\n",
       "      <td>551.687256</td>\n",
       "      <td>553.626343</td>\n",
       "      <td>139.568665</td>\n",
       "      <td>491.481171</td>\n",
       "      <td>366.105835</td>\n",
       "      <td>942.053711</td>\n",
       "    </tr>\n",
       "  </tbody>\n",
       "</table>\n",
       "</div>"
      ],
      "text/plain": [
       "             nmass          hpt        zmass          zpt          npt  \\\n",
       "count  1352.000000  1352.000000  1352.000000  1352.000000  1352.000000   \n",
       "mean     39.146784    43.828893    69.316413    45.626251    41.989369   \n",
       "std      47.302478    45.537901    25.565619    45.272830    39.125207   \n",
       "min       0.215243     0.495447     1.755571     0.507776     0.204257   \n",
       "25%       3.010048    13.369686    52.278891    17.906152    21.837002   \n",
       "50%      24.523043    30.565646    73.134636    31.795276    30.557707   \n",
       "75%      72.020248    60.480492    90.704208    58.546426    48.993651   \n",
       "max     551.687256   553.626343   139.568665   491.481171   366.105835   \n",
       "\n",
       "             hmass  \n",
       "count  1352.000000  \n",
       "mean    156.740156  \n",
       "std     111.573901  \n",
       "min       3.178756  \n",
       "25%      89.487904  \n",
       "50%     124.362049  \n",
       "75%     205.486851  \n",
       "max     942.053711  "
      ]
     },
     "execution_count": 286,
     "metadata": {},
     "output_type": "execute_result"
    }
   ],
   "source": [
    "dfc.describe()"
   ]
  },
  {
   "cell_type": "code",
   "execution_count": 287,
   "metadata": {},
   "outputs": [
    {
     "data": {
      "text/plain": [
       "<matplotlib.collections.PathCollection at 0x7fcaac9a4240>"
      ]
     },
     "execution_count": 287,
     "metadata": {},
     "output_type": "execute_result"
    },
    {
     "data": {
      "image/png": "[encoded data removed]",
      "text/plain": [
       "<Figure size 432x288 with 1 Axes>"
      ]
     },
     "metadata": {
      "needs_background": "light"
     },
     "output_type": "display_data"
    }
   ],
   "source": [
    "plt.scatter(dfc.zmass,dfc.nmass)"
   ]
  },
  {
   "cell_type": "code",
   "execution_count": 309,
   "metadata": {},
   "outputs": [
    {
     "data": {
      "text/plain": [
       "<matplotlib.axes._subplots.AxesSubplot at 0x7fca20067ac8>"
      ]
     },
     "execution_count": 309,
     "metadata": {},
     "output_type": "execute_result"
    },
    {
     "data": {
      "image/png": "[encoded data removed]",
      "text/plain": [
       "<Figure size 432x288 with 1 Axes>"
      ]
     },
     "metadata": {
      "needs_background": "light"
     },
     "output_type": "display_data"
    }
   ],
   "source": [
    "# dfc[\"hmass\"].plot.hist(bins=np.linspace(0,250,50))\n",
    "df = dfc.query(\"10<nmass<80\")\n",
    "df.hmass.plot.hist(bins=np.linspace(0,250,30))"
   ]
  },
  {
   "cell_type": "code",
   "execution_count": 298,
   "metadata": {},
   "outputs": [
    {
     "data": {
      "text/plain": [
       "Text(0.5, 1.0, 'data')"
      ]
     },
     "execution_count": 298,
     "metadata": {},
     "output_type": "execute_result"
    },
    {
     "data": {
      "image/png": "[encoded data removed]",
      "text/plain": [
       "<Figure size 432x288 with 1 Axes>"
      ]
     },
     "metadata": {
      "needs_background": "light"
     },
     "output_type": "display_data"
    }
   ],
   "source": [
    "fig,ax = plt.subplots()\n",
    "bins = [np.linspace(0,250,50),np.linspace(0,250,50)]\n",
    "df = dfc.query(\"10<nmass<80\")\n",
    "# ax.hist2d(df[\"zmass\"],df[\"nmass\"],bins=bins,norm=LogNorm());\n",
    "ax.hist2d(df[\"nmass\"],df[\"hmass\"],bins=bins)\n",
    "ax.plot(bins[0],bins[0]+10)\n",
    "ax.set_xlabel(\"pt\")\n",
    "ax.set_ylabel(\"m\")\n",
    "ax.set_title(\"data\")"
   ]
  }
 ],
 "metadata": {
  "kernelspec": {
   "display_name": "Python 3",
   "language": "python",
   "name": "python3"
  },
  "language_info": {
   "codemirror_mode": {
    "name": "ipython",
    "version": 3
   },
   "file_extension": ".py",
   "mimetype": "text/x-python",
   "name": "python",
   "nbconvert_exporter": "python",
   "pygments_lexer": "ipython3",
   "version": "3.5.2"
  }
 },
 "nbformat": 4,
 "nbformat_minor": 2
}
